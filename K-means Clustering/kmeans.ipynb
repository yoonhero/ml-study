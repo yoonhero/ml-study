{
 "cells": [
  {
   "cell_type": "code",
   "execution_count": 1,
   "metadata": {},
   "outputs": [],
   "source": [
    "import numpy as np\n",
    "import matplotlib.pyplot as plt\n",
    "import time\n",
    "\n",
    "x = [1, 2, 2, 3, 6, 7]\n",
    "y = [1.4, 1.3, 6.4, 6.1, 3.2, 3.5]\n",
    "x = np.array(x, dtype=np.float64)\n",
    "y = np.array(y, dtype=np.float64)"
   ]
  },
  {
   "cell_type": "code",
   "execution_count": 14,
   "metadata": {},
   "outputs": [
    {
     "data": {
      "text/plain": [
       "Text(0, 0.5, 'Y-axis')"
      ]
     },
     "execution_count": 14,
     "metadata": {},
     "output_type": "execute_result"
    },
    {
     "data": {
      "image/png": "[encoded data removed]",
      "text/plain": [
       "<Figure size 720x576 with 1 Axes>"
      ]
     },
     "metadata": {
      "needs_background": "light"
     },
     "output_type": "display_data"
    }
   ],
   "source": [
    "plt.ion()\n",
    "\n",
    "figure, ax = plt.subplots(figsize=(10, 8))\n",
    "dot1 = ax.scatter(x, y)\n",
    "\n",
    "plt.title(\"K-means Clustering\", fontsize=20)\n",
    "\n",
    "plt.xlabel(\"X-axis\")\n",
    "plt.ylabel(\"Y-axis\")"
   ]
  },
  {
   "cell_type": "code",
   "execution_count": 29,
   "metadata": {},
   "outputs": [],
   "source": [
    "k = 3"
   ]
  },
  {
   "cell_type": "code",
   "execution_count": 47,
   "metadata": {},
   "outputs": [],
   "source": [
    "random_centers = np.random.rand(k, 2)\n",
    "\n",
    "random_centers = random_centers\n",
    "random_p = np.array([[np.random.randint(min(x), max(x)) for _ in range(2)], [np.random.randint(min(y), max(y)) for _ in range(2)]])\n",
    "\n",
    "random_centers = random_centers@random_p.T"
   ]
  },
  {
   "cell_type": "code",
   "execution_count": 95,
   "metadata": {},
   "outputs": [
    {
     "name": "stdout",
     "output_type": "stream",
     "text": [
      "{'0': [(1.0, 1.4), (2.0, 1.3), (2.0, 6.4), (3.0, 6.1), (6.0, 3.2), (7.0, 3.5)], '1': [], '2': []}\n",
      "[[10.5  10.95]\n",
      " [10.5  10.95]\n",
      " [10.5  10.95]]\n"
     ]
    }
   ],
   "source": [
    "def euclidean_distance(x1, y1, x2, y2):\n",
    "    return np.sqrt((x1 - x2)**2+(y1 - y2)**2)\n",
    "\n",
    "nb_epochs = 100\n",
    "\n",
    "for epoch in range(nb_epochs):\n",
    "    points = {}\n",
    "\n",
    "    for i in range(k):\n",
    "        points[str(i)] = []\n",
    "\n",
    "    for xi, yi in zip(x, y):\n",
    "        distances_from_center = np.array([euclidean_distance(xi, yi, xii, yii) for xii, yii in random_centers])\n",
    "        t_index = np.argmin(distances_from_center)\n",
    "\n",
    "        points[str(t_index)].append((xi, yi))\n",
    "\n",
    "\n",
    "    for i in range(k):\n",
    "        cluster_points = points[str(i)]\n",
    "\n",
    "        if (len(cluster_points) == 0):\n",
    "            continue \n",
    "\n",
    "        new_center = np.sum(cluster_points, axis=0)/len(cluster_points[0])\n",
    "\n",
    "        # if (new_center == random_centers[i]).all():\n",
    "            # print(\"finish!!\")\n",
    "        # else:\n",
    "        random_centers[i] = new_center\n",
    "    \n",
    "print(points)\n",
    "print(random_centers)"
   ]
  },
  {
   "cell_type": "markdown",
   "metadata": {},
   "source": [
    "잘 작동하지 않는다... 내 생각에는 군집화하는 중점의 좌표를 랜덤으로 설정하고 있어서 시간이 지날수록 모든 중심이 같아지는 현상이 일어나는 것 같다."
   ]
  },
  {
   "cell_type": "code",
   "execution_count": null,
   "metadata": {},
   "outputs": [],
   "source": []
  }
 ],
 "metadata": {
  "kernelspec": {
   "display_name": "Python 3.10.4 ('mlenv')",
   "language": "python",
   "name": "python3"
  },
  "language_info": {
   "codemirror_mode": {
    "name": "ipython",
    "version": 3
   },
   "file_extension": ".py",
   "mimetype": "text/x-python",
   "name": "python",
   "nbconvert_exporter": "python",
   "pygments_lexer": "ipython3",
   "version": "3.10.4"
  },
  "orig_nbformat": 4,
  "vscode": {
   "interpreter": {
    "hash": "9d2639ffb07810fac2cedc92e08a41c0bae42ca785c48ccdb21dd6b5e60bd2fc"
   }
  }
 },
 "nbformat": 4,
 "nbformat_minor": 2
}
